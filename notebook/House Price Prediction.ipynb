{
 "cells": [
  {
   "cell_type": "markdown",
   "id": "b0a8f978-e9ce-4657-9cf9-d450a370185f",
   "metadata": {
    "tags": []
   },
   "source": [
    "# House Prices - Advanced Regression Techniques\n",
    "\n",
    "* Author: [John Adeojo](https://www.john-adeojo.com/)\n",
    "* Blog: [more projects on my medium blog](https://medium.com/@johnadeojo)\n",
    "* LinkedIn: [Follow me](https://www.linkedin.com/in/john-adeojo/)"
   ]
  },
  {
   "cell_type": "markdown",
   "id": "cde541ce-5553-4d49-8925-e51971c61cca",
   "metadata": {},
   "source": [
    "# Import Data "
   ]
  },
  {
   "cell_type": "code",
   "execution_count": 1,
   "id": "bd637c9a-2ea9-49d8-b46e-22b71b29b2d8",
   "metadata": {
    "tags": []
   },
   "outputs": [],
   "source": [
    "import pandas as pd\n",
    "import numpy as np"
   ]
  },
  {
   "cell_type": "code",
   "execution_count": 2,
   "id": "76fcd949-60c9-4be4-a6d3-38d8a859f38e",
   "metadata": {
    "tags": []
   },
   "outputs": [],
   "source": [
    "df_train = pd.read_csv(r\"https://raw.githubusercontent.com/john-adeojo/kaggle_advanced_regression/main/data/01_raw/train%20(3).csv\")\n",
    "df_test = pd.read_csv(r\"https://raw.githubusercontent.com/john-adeojo/kaggle_advanced_regression/main/data/01_raw/test%20(2).csv\")"
   ]
  },
  {
   "cell_type": "code",
   "execution_count": 3,
   "id": "3666e015-0bff-4593-85b2-2e73acc994b2",
   "metadata": {
    "tags": []
   },
   "outputs": [],
   "source": [
    "# do some quick data profiling with ydata profiling\n",
    "# from ydata_profiling import ProfileReport\n",
    "\n",
    "# profile = ProfileReport(df_train, title=\"Pandas Profiling Report: House Price Data\")\n",
    "# profile.to_file(r\"C:\\Users\\johna\\anaconda3\\envs\\kaggle-env\\kaggle_advanced_regression\\data\\02_reports\\testprofile_report.html\")"
   ]
  },
  {
   "cell_type": "code",
   "execution_count": 4,
   "id": "c2271f5a-38d8-47f8-b438-e9e58848df45",
   "metadata": {
    "tags": []
   },
   "outputs": [],
   "source": [
    "# profile = ProfileReport(df_test, title=\"Pandas Profiling Report: House Price Data (Test)\")\n",
    "# profile.to_file(r\"C:\\Users\\johna\\anaconda3\\envs\\kaggle-env\\kaggle_advanced_regression\\data\\02_reports\\testprofile_report.html\")"
   ]
  },
  {
   "cell_type": "markdown",
   "id": "4d18488c-46ab-4e43-8009-bc5983ca622d",
   "metadata": {},
   "source": [
    "# Data Wrangling & Cleaning"
   ]
  },
  {
   "cell_type": "code",
   "execution_count": 5,
   "id": "9cecb78a-d3fa-4634-9d68-f7afccf8a67c",
   "metadata": {
    "tags": []
   },
   "outputs": [],
   "source": [
    "# define funtion te rplace missing vairbales\n",
    "\n",
    "import pandas as pd\n",
    "\n",
    "def impute_missing(df, test=False):\n",
    "    \n",
    "    if test == False:\n",
    "        id_df = df['Id']\n",
    "        y = df['SalePrice']\n",
    "        df = df.drop(columns=['Id', 'SalePrice'])\n",
    "    else:\n",
    "        id_df = df['Id']\n",
    "        df = df.drop(columns=['Id'])\n",
    "    \n",
    "    \n",
    "    df['LotFrontage'] = df['LotFrontage'].fillna(0)\n",
    "    df['Alley'] = df['Alley'].fillna('No Alley')\n",
    "    df['MasVnrType'] = df['MasVnrType'].fillna('None')\n",
    "    df['MasVnrArea'] = df['MasVnrArea'].fillna(0)\n",
    "    df['BsmtQual'] = df['BsmtQual'].fillna('None')\n",
    "    df['BsmtCond'] = df['BsmtCond'].fillna('None')\n",
    "    df['BsmtExposure'] = df['BsmtExposure'].fillna('None')\n",
    "    df['BsmtFinType1'] = df['BsmtFinType1'].fillna('None')\n",
    "    df['BsmtFinType2'] = df['BsmtFinType2'].fillna('None')\n",
    "    df['Electrical'] = df['Electrical'].fillna('SBrkr')\n",
    "    df['FireplaceQu'] = df['FireplaceQu'].fillna('None')\n",
    "    df['GarageType'] = df['GarageType'].fillna('None')\n",
    "    df['GarageYrBlt'] = df['GarageYrBlt'].fillna(9999)\n",
    "    df['GarageFinish'] = df['GarageFinish'].fillna('None')\n",
    "    df['GarageQual'] = df['GarageQual'].fillna('None')\n",
    "    df['GarageCond'] = df['GarageCond'].fillna('None')\n",
    "    df['PoolQC'] = df['PoolQC'].fillna('None')\n",
    "    df['Fence'] = df['Fence'].fillna('None')\n",
    "    df['MiscFeature'] = df['MiscFeature'].fillna('None')\n",
    "    \n",
    "    df['MSZoning'] = df['MSZoning'].fillna('RL')\n",
    "    df['Utilities'] = df['Utilities'].fillna('AllPub')\n",
    "    df['Exterior1st'] = df['Exterior1st'].fillna('VinylSd') \n",
    "    df['Exterior2nd'] = df['Exterior2nd'].fillna('VinylSd') \n",
    "    df['BsmtFinSF1'] = df['BsmtFinSF1'].fillna(0) \n",
    "    df['BsmtFinSF2'] = df['BsmtFinSF2'].fillna(0)\n",
    "    df['BsmtUnfSF'] = df['BsmtUnfSF'].fillna(0)\n",
    "    df['BsmtUnfSF'] = df['BsmtUnfSF'].fillna(0)\n",
    "    df['TotalBsmtSF'] = df['TotalBsmtSF'].fillna(0)\n",
    "    df['BsmtFullBath'] = df['BsmtFullBath'].fillna(0)\n",
    "    df['BsmtHalfBath'] = df['BsmtHalfBath'].fillna(0)\n",
    "    df['KitchenQual'] = df['KitchenQual'].fillna('TA')\n",
    "    df['Functional'] = df['Functional'].fillna('Typ')\n",
    "    df['Functional'] = df['Functional'].fillna('Typ')\n",
    "    df['GarageCars'] = df['GarageCars'].fillna(0)\n",
    "    df['GarageArea'] = df['GarageArea'].fillna(0) \n",
    "    df['SaleType'] = df['SaleType'].fillna('WD') \n",
    "    \n",
    "    # convert int to object\n",
    "    df['YearBuilt'] = df['YearBuilt'].astype('object')\n",
    "    df['YearRemodAdd'] = df['YearRemodAdd'].astype('object')\n",
    "    df['GarageYrBlt'] = df['GarageYrBlt'].astype('object')\n",
    "    df['YrSold'] = df['YrSold'].astype('object')\n",
    "\n",
    "\n",
    "    \n",
    "    if test == False:\n",
    "        return df, y, id_df\n",
    "    else:\n",
    "        return df, id_df\n",
    "\n"
   ]
  },
  {
   "cell_type": "code",
   "execution_count": 6,
   "id": "6e97e1f5-2077-44e3-947e-c3a7b40529a8",
   "metadata": {
    "tags": []
   },
   "outputs": [],
   "source": [
    "X, y, train_id = impute_missing(df_train, test=False)\n",
    "X_test, test_id = impute_missing(df_test, test=True)"
   ]
  },
  {
   "cell_type": "code",
   "execution_count": 7,
   "id": "6813faf0-2dca-4ae5-8218-882bc3be05e3",
   "metadata": {
    "tags": []
   },
   "outputs": [],
   "source": [
    "# Identify categorical and numeric columns\n",
    "cat_features = X.select_dtypes(include=['object', 'category']).columns.tolist()\n",
    "num_features = X.select_dtypes(include=['number']).columns.tolist()"
   ]
  },
  {
   "cell_type": "code",
   "execution_count": 8,
   "id": "1666a07f-6dfc-4e2f-b554-d2dd1dbc73e7",
   "metadata": {},
   "outputs": [],
   "source": [
    "import numpy as np\n",
    "from sklearn.base import BaseEstimator, TransformerMixin\n",
    "\n",
    "class LogTransformer(BaseEstimator, TransformerMixin):\n",
    "    def fit(self, X, y=None):\n",
    "        return self\n",
    "\n",
    "    def transform(self, X, y=None):\n",
    "        return np.log1p(X)  # Using log1p to avoid issues with 0 values\n"
   ]
  },
  {
   "cell_type": "code",
   "execution_count": 9,
   "id": "52bdc433-986c-4f37-b336-b46e1fd17e34",
   "metadata": {
    "tags": []
   },
   "outputs": [],
   "source": [
    "from sklearn.compose import ColumnTransformer\n",
    "from sklearn.pipeline import Pipeline\n",
    "from sklearn.ensemble import RandomForestRegressor, StackingRegressor\n",
    "from sklearn.linear_model import Ridge, LinearRegression, ElasticNet\n",
    "from sklearn.preprocessing import OneHotEncoder, MinMaxScaler, StandardScaler\n",
    "from sklearn.model_selection import train_test_split\n",
    "from xgboost import XGBRegressor\n",
    "\n",
    "\n",
    "preprocessor = ColumnTransformer(\n",
    "    transformers=[\n",
    "        ('logtransform', LogTransformer(), num_features),\n",
    "        ('standardize', StandardScaler(), num_features), \n",
    "        ('onehotencode', OneHotEncoder(handle_unknown='ignore'), cat_features),\n",
    "    ])\n",
    "\n",
    "xgb_pipeline = Pipeline([\n",
    "    ('preprocessor', preprocessor),\n",
    "    ('regressor', XGBRegressor(tree_method='gpu_hist', objective='reg:squarederror', random_state=42))\n",
    "])\n",
    "\n",
    "rf_pipeline = Pipeline([\n",
    "    ('preprocessor', preprocessor),\n",
    "    ('regressor', RandomForestRegressor(random_state=42))\n",
    "])\n",
    "\n",
    "ridge_pipeline = Pipeline([\n",
    "    ('preprocessor', preprocessor),\n",
    "    ('regressor', Ridge(random_state=42))\n",
    "])\n",
    "\n"
   ]
  },
  {
   "cell_type": "code",
   "execution_count": 10,
   "id": "84c2b2e8-70f4-4480-b939-bd0d1b8535e0",
   "metadata": {
    "tags": []
   },
   "outputs": [],
   "source": [
    "# split data \n",
    "X_train, X_validation, y_train, y_validation = train_test_split(X, y, test_size=0.25, random_state=42)\n",
    "\n",
    "y_train = np.log(y_train)\n",
    "y_validation = np.log(y_validation)"
   ]
  },
  {
   "cell_type": "code",
   "execution_count": 11,
   "id": "edc4235c-0f4b-408d-a5df-2602e9af43ea",
   "metadata": {
    "tags": []
   },
   "outputs": [],
   "source": [
    "from skopt.space import Real, Integer, Categorical\n",
    "\n",
    "# Parameter grid for XGBoost\n",
    "xgb_param_grid = {\n",
    "    'regressor__learning_rate': Real(0.01, 0.3, prior='log-uniform'),\n",
    "    'regressor__n_estimators': Integer(50, 2000),\n",
    "    'regressor__max_depth': Integer(3, 50),\n",
    "    'regressor__min_child_weight': Integer(1, 20),\n",
    "    'regressor__gamma': Real(0, 5),\n",
    "    'regressor__subsample': Real(0.5, 1),\n",
    "    'regressor__colsample_bytree': Real(0.5, 1),\n",
    "    'regressor__reg_alpha': Real(0.1, 1000, prior='log-uniform'),\n",
    "    'regressor__reg_lambda': Real(0.1, 1000, prior='log-uniform'),\n",
    "}\n",
    "\n",
    "# Parameter grid for RandomForest\n",
    "rf_param_grid = {\n",
    "    'regressor__n_estimators': Integer(50, 2000),\n",
    "    'regressor__max_depth': Integer(3, 50),\n",
    "    'regressor__min_samples_split': Integer(2, 20),\n",
    "    'regressor__min_samples_leaf': Integer(1, 20),\n",
    "}\n",
    "\n",
    "\n",
    "# Parameter grid for Ridge\n",
    "ridge_param_grid = {\n",
    "    'regressor__alpha': Real(0.1, 1000, prior='log-uniform'),\n",
    "}\n",
    "\n",
    "\n"
   ]
  },
  {
   "cell_type": "code",
   "execution_count": null,
   "id": "d0b7f5ff-43b8-4078-89d9-e4fa4b2ee036",
   "metadata": {},
   "outputs": [],
   "source": [
    "from skopt import BayesSearchCV\n",
    "\n",
    "\n",
    "# Tune XGBoost model\n",
    "xgb_tuner = BayesSearchCV(\n",
    "    xgb_pipeline,\n",
    "    xgb_param_grid,\n",
    "    cv=5,\n",
    "    scoring='neg_root_mean_squared_error',\n",
    "    n_iter=30,\n",
    "    n_jobs=-1\n",
    ")\n",
    "xgb_tuner.fit(X_train, y_train)\n",
    "\n",
    "# Tune RandomForest model\n",
    "rf_tuner = BayesSearchCV(\n",
    "    rf_pipeline,\n",
    "    rf_param_grid,\n",
    "    cv=5,\n",
    "    scoring='neg_root_mean_squared_error',\n",
    "    n_iter=30,\n",
    "    n_jobs=-1\n",
    ")\n",
    "rf_tuner.fit(X_train, y_train)\n",
    "\n",
    "# Tune Ridge model\n",
    "ridge_tuner = BayesSearchCV(\n",
    "    ridge_pipeline,\n",
    "    ridge_param_grid,\n",
    "    cv=5,\n",
    "    scoring='neg_root_mean_squared_error',\n",
    "    n_iter=30,\n",
    "    n_jobs=-1\n",
    ")\n",
    "ridge_tuner.fit(X_train, y_train)\n",
    "\n",
    "\n",
    "\n"
   ]
  },
  {
   "cell_type": "code",
   "execution_count": null,
   "id": "929f5af4-e5a0-4ee6-be4a-741f52c218bf",
   "metadata": {
    "tags": []
   },
   "outputs": [],
   "source": [
    "validation_score = xgb_tuner.score(X_validation, y_validation)\n",
    "\n",
    "# Print the validation score\n",
    "print(\"Validation score xgb: \", -validation_score)\n",
    "\n",
    "validation_score = rf_tuner.score(X_validation, y_validation)\n",
    "\n",
    "# Print the validation score\n",
    "print(\"Validation score random forest: \", -validation_score)\n",
    "\n",
    "validation_score = ridge_tuner.score(X_validation, y_validation)\n",
    "\n",
    "# Print the validation score\n",
    "print(\"Validation score ridge: \", -validation_score)\n"
   ]
  },
  {
   "cell_type": "code",
   "execution_count": null,
   "id": "8c618dc9-b77e-444e-9a6c-c0ef36b4757f",
   "metadata": {
    "tags": []
   },
   "outputs": [],
   "source": [
    "from sklearn.linear_model import LinearRegression\n",
    "\n",
    "# Create a list of the tuned models with names\n",
    "models = [\n",
    "    ('xgb', xgb_tuner.best_estimator_),\n",
    "    ('rf', rf_tuner.best_estimator_),\n",
    "    ('ridge', ridge_tuner.best_estimator_)\n",
    "]\n",
    "\n",
    "# Create the stacking model\n",
    "stacking_regressor = StackingRegressor(\n",
    "    estimators=models,\n",
    "    final_estimator=LinearRegression(),\n",
    "    cv=5,\n",
    "    n_jobs=-1\n",
    ")\n",
    "\n",
    "# Fit the stacking model on your training data\n",
    "stacking_regressor.fit(X_train, y_train)"
   ]
  },
  {
   "cell_type": "code",
   "execution_count": null,
   "id": "e3af0812-e6dc-480b-8689-150b8328aada",
   "metadata": {},
   "outputs": [],
   "source": [
    "# Test stacking model on validation set \n",
    "from sklearn.metrics import mean_squared_error\n",
    "\n",
    "y_pred = stacking_regressor.predict(X_validation)\n",
    "stacked_rmse = np.sqrt(mean_squared_error(y_validation, y_pred))\n",
    "print(\"Validation score stacked model: \", stacked_rmse)\n"
   ]
  },
  {
   "cell_type": "code",
   "execution_count": null,
   "id": "215f08cb-07fe-4848-83c2-940b345ac6d0",
   "metadata": {
    "tags": []
   },
   "outputs": [],
   "source": [
    "stacking_regressor.fit(X, y)\n"
   ]
  },
  {
   "cell_type": "code",
   "execution_count": null,
   "id": "b9681028-a3c0-4c6f-bc22-e5833045804a",
   "metadata": {
    "tags": []
   },
   "outputs": [],
   "source": [
    "test_pred = np.exp(stacking_regressor.predict(X_test))\n",
    "test_pred"
   ]
  },
  {
   "cell_type": "code",
   "execution_count": null,
   "id": "0ae73ea9-ce2c-485c-a082-14aa9cc6fb4c",
   "metadata": {
    "tags": []
   },
   "outputs": [],
   "source": [
    "submission = pd.DataFrame(test_id)\n",
    "submission['SalePrice'] = test_pred.round()"
   ]
  },
  {
   "cell_type": "code",
   "execution_count": null,
   "id": "3ec917a4-d074-4c91-b07a-de2f0525e224",
   "metadata": {
    "tags": []
   },
   "outputs": [],
   "source": [
    "submission.to_csv(r\"C:\\Users\\johna\\OneDrive\\Desktop\\submission.csv\", index=False)"
   ]
  },
  {
   "cell_type": "code",
   "execution_count": null,
   "id": "73cc4dbd-325d-4d26-83fd-e4d2b2575f73",
   "metadata": {},
   "outputs": [],
   "source": []
  }
 ],
 "metadata": {
  "kernelspec": {
   "display_name": "Python 3 (ipykernel)",
   "language": "python",
   "name": "python3"
  },
  "language_info": {
   "codemirror_mode": {
    "name": "ipython",
    "version": 3
   },
   "file_extension": ".py",
   "mimetype": "text/x-python",
   "name": "python",
   "nbconvert_exporter": "python",
   "pygments_lexer": "ipython3",
   "version": "3.10.10"
  }
 },
 "nbformat": 4,
 "nbformat_minor": 5
}

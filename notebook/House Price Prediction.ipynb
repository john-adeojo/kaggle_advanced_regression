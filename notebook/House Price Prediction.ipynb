{
 "cells": [
  {
   "cell_type": "markdown",
   "id": "b0a8f978-e9ce-4657-9cf9-d450a370185f",
   "metadata": {
    "tags": []
   },
   "source": [
    "# House Prices - Advanced Regression Techniques\n",
    "\n",
    "* Author: [John Adeojo](https://www.john-adeojo.com/)\n",
    "* Blog: [more projects on my medium blog](https://medium.com/@johnadeojo)\n",
    "* LinkedIn: [Follow me](https://www.linkedin.com/in/john-adeojo/)"
   ]
  },
  {
   "cell_type": "markdown",
   "id": "cde541ce-5553-4d49-8925-e51971c61cca",
   "metadata": {},
   "source": [
    "# Import Data "
   ]
  },
  {
   "cell_type": "code",
   "execution_count": 1,
   "id": "bd637c9a-2ea9-49d8-b46e-22b71b29b2d8",
   "metadata": {
    "tags": []
   },
   "outputs": [],
   "source": [
    "import pandas as pd\n",
    "import numpy as np"
   ]
  },
  {
   "cell_type": "code",
   "execution_count": 32,
   "id": "76fcd949-60c9-4be4-a6d3-38d8a859f38e",
   "metadata": {
    "tags": []
   },
   "outputs": [],
   "source": [
    "df_train = pd.read_csv(r\"https://raw.githubusercontent.com/john-adeojo/kaggle_advanced_regression/main/data/01_raw/train%20(3).csv\")\n",
    "df_test = pd.read_csv(r\"https://raw.githubusercontent.com/john-adeojo/kaggle_advanced_regression/main/data/01_raw/test%20(2).csv\")"
   ]
  },
  {
   "cell_type": "code",
   "execution_count": 3,
   "id": "3666e015-0bff-4593-85b2-2e73acc994b2",
   "metadata": {
    "tags": []
   },
   "outputs": [
    {
     "data": {
      "application/vnd.jupyter.widget-view+json": {
       "model_id": "17662b53cc964188b26efb9b934b7e9d",
       "version_major": 2,
       "version_minor": 0
      },
      "text/plain": [
       "Summarize dataset:   0%|          | 0/5 [00:00<?, ?it/s]"
      ]
     },
     "metadata": {},
     "output_type": "display_data"
    },
    {
     "data": {
      "application/vnd.jupyter.widget-view+json": {
       "model_id": "d7bc09d25d5d4066b25d3fcf9cf473fa",
       "version_major": 2,
       "version_minor": 0
      },
      "text/plain": [
       "Generate report structure:   0%|          | 0/1 [00:00<?, ?it/s]"
      ]
     },
     "metadata": {},
     "output_type": "display_data"
    },
    {
     "data": {
      "application/vnd.jupyter.widget-view+json": {
       "model_id": "f46950ae8e0c42a086182c892e2d589e",
       "version_major": 2,
       "version_minor": 0
      },
      "text/plain": [
       "Render HTML:   0%|          | 0/1 [00:00<?, ?it/s]"
      ]
     },
     "metadata": {},
     "output_type": "display_data"
    },
    {
     "data": {
      "application/vnd.jupyter.widget-view+json": {
       "model_id": "2ac915f2e68041e9bf2f4efcf52c68ba",
       "version_major": 2,
       "version_minor": 0
      },
      "text/plain": [
       "Export report to file:   0%|          | 0/1 [00:00<?, ?it/s]"
      ]
     },
     "metadata": {},
     "output_type": "display_data"
    }
   ],
   "source": [
    "# do some quick data profiling with ydata profiling\n",
    "# from ydata_profiling import ProfileReport\n",
    "\n",
    "# profile = ProfileReport(df_train, title=\"Pandas Profiling Report: House Price Data\")\n",
    "# profile.to_file(r\"C:\\Users\\johna\\anaconda3\\envs\\kaggle-env\\kaggle_advanced_regression\\data\\02_reports\\testprofile_report.html\")"
   ]
  },
  {
   "cell_type": "code",
   "execution_count": 4,
   "id": "c2271f5a-38d8-47f8-b438-e9e58848df45",
   "metadata": {
    "tags": []
   },
   "outputs": [
    {
     "data": {
      "application/vnd.jupyter.widget-view+json": {
       "model_id": "82aa896d96cd4de6b8bece046f3677b4",
       "version_major": 2,
       "version_minor": 0
      },
      "text/plain": [
       "Summarize dataset:   0%|          | 0/5 [00:00<?, ?it/s]"
      ]
     },
     "metadata": {},
     "output_type": "display_data"
    },
    {
     "data": {
      "application/vnd.jupyter.widget-view+json": {
       "model_id": "4ddba49cb2b3455a94402ce9682cc711",
       "version_major": 2,
       "version_minor": 0
      },
      "text/plain": [
       "Generate report structure:   0%|          | 0/1 [00:00<?, ?it/s]"
      ]
     },
     "metadata": {},
     "output_type": "display_data"
    },
    {
     "data": {
      "application/vnd.jupyter.widget-view+json": {
       "model_id": "c8e32e1529f847afa6d6029dcd165279",
       "version_major": 2,
       "version_minor": 0
      },
      "text/plain": [
       "Render HTML:   0%|          | 0/1 [00:00<?, ?it/s]"
      ]
     },
     "metadata": {},
     "output_type": "display_data"
    },
    {
     "data": {
      "application/vnd.jupyter.widget-view+json": {
       "model_id": "8bf81178c9c449659818ebc26cbaf248",
       "version_major": 2,
       "version_minor": 0
      },
      "text/plain": [
       "Export report to file:   0%|          | 0/1 [00:00<?, ?it/s]"
      ]
     },
     "metadata": {},
     "output_type": "display_data"
    }
   ],
   "source": [
    "# profile = ProfileReport(df_test, title=\"Pandas Profiling Report: House Price Data (Test)\")\n",
    "# profile.to_file(r\"C:\\Users\\johna\\anaconda3\\envs\\kaggle-env\\kaggle_advanced_regression\\data\\02_reports\\testprofile_report.html\")"
   ]
  },
  {
   "cell_type": "markdown",
   "id": "4d18488c-46ab-4e43-8009-bc5983ca622d",
   "metadata": {},
   "source": [
    "# Data Wrangling & Cleaning"
   ]
  },
  {
   "cell_type": "code",
   "execution_count": 68,
   "id": "9cecb78a-d3fa-4634-9d68-f7afccf8a67c",
   "metadata": {
    "tags": []
   },
   "outputs": [],
   "source": [
    "# define funtion te rplace missing vairbales\n",
    "\n",
    "import pandas as pd\n",
    "\n",
    "def impute_missing(df, test=False):\n",
    "    \n",
    "    if test == False:\n",
    "        id_df = df['Id']\n",
    "        y = df['SalePrice']\n",
    "        df = df.drop(columns=['Id', 'SalePrice'])\n",
    "    else:\n",
    "        id_df = df['Id']\n",
    "        df = df.drop(columns=['Id'])\n",
    "    \n",
    "    \n",
    "    df['LotFrontage'] = df['LotFrontage'].fillna(0)\n",
    "    df['Alley'] = df['Alley'].fillna('No Alley')\n",
    "    df['MasVnrType'] = df['MasVnrType'].fillna('None')\n",
    "    df['MasVnrArea'] = df['MasVnrArea'].fillna(0)\n",
    "    df['BsmtQual'] = df['BsmtQual'].fillna('None')\n",
    "    df['BsmtCond'] = df['BsmtCond'].fillna('None')\n",
    "    df['BsmtExposure'] = df['BsmtExposure'].fillna('None')\n",
    "    df['BsmtFinType1'] = df['BsmtFinType1'].fillna('None')\n",
    "    df['BsmtFinType2'] = df['BsmtFinType2'].fillna('None')\n",
    "    df['Electrical'] = df['Electrical'].fillna('SBrkr')\n",
    "    df['FireplaceQu'] = df['FireplaceQu'].fillna('None')\n",
    "    df['GarageType'] = df['GarageType'].fillna('None')\n",
    "    df['GarageYrBlt'] = df['GarageYrBlt'].fillna(9999)\n",
    "    df['GarageFinish'] = df['GarageFinish'].fillna('None')\n",
    "    df['GarageQual'] = df['GarageQual'].fillna('None')\n",
    "    df['GarageCond'] = df['GarageCond'].fillna('None')\n",
    "    df['PoolQC'] = df['PoolQC'].fillna('None')\n",
    "    df['Fence'] = df['Fence'].fillna('None')\n",
    "    df['MiscFeature'] = df['MiscFeature'].fillna('None')\n",
    "    \n",
    "    # missing in test \n",
    "    df['MSZoning'] = df['MSZoning'].fillna('RL')\n",
    "    df['Utilities'] = df['Utilities'].fillna('AllPub')\n",
    "    df['Exterior1st'] = df['Exterior1st'].fillna('VinylSd')  # replace with mode for area.\n",
    "    df['Exterior2nd'] = df['Exterior2nd'].fillna('VinylSd')  # replace with mode for area.\n",
    "    df['BsmtFinSF1'] = df['BsmtFinSF1'].fillna(0) # effectively no basement\n",
    "    df['BsmtFinSF2'] = df['BsmtFinSF2'].fillna(0)\n",
    "    df['BsmtUnfSF'] = df['BsmtUnfSF'].fillna(0)\n",
    "    df['BsmtUnfSF'] = df['BsmtUnfSF'].fillna(0)\n",
    "    df['TotalBsmtSF'] = df['TotalBsmtSF'].fillna(0)\n",
    "    df['BsmtFullBath'] = df['BsmtFullBath'].fillna(0)\n",
    "    df['BsmtHalfBath'] = df['BsmtHalfBath'].fillna(0)\n",
    "    df['KitchenQual'] = df['KitchenQual'].fillna('TA')\n",
    "    df['Functional'] = df['Functional'].fillna('Typ')\n",
    "    df['Functional'] = df['Functional'].fillna('Typ')\n",
    "    df['GarageCars'] = df['GarageCars'].fillna(0)\n",
    "    df['GarageArea'] = df['GarageArea'].fillna(0) # if\n",
    "    df['SaleType'] = df['SaleType'].fillna('WD') # if\n",
    "    \n",
    "    # convert int to object\n",
    "    df['YearBuilt'] = df['YearBuilt'].astype('object')\n",
    "    df['YearRemodAdd'] = df['YearRemodAdd'].astype('object')\n",
    "    df['GarageYrBlt'] = df['GarageYrBlt'].astype('object')\n",
    "    df['YrSold'] = df['YrSold'].astype('object')\n",
    "\n",
    "\n",
    "    \n",
    "    if test == False:\n",
    "        return df, y, id_df\n",
    "    else:\n",
    "        return df, id_df\n",
    "\n"
   ]
  },
  {
   "cell_type": "code",
   "execution_count": 69,
   "id": "6e97e1f5-2077-44e3-947e-c3a7b40529a8",
   "metadata": {
    "tags": []
   },
   "outputs": [],
   "source": [
    "X, y, train_id = impute_missing(df_train, test=False)\n",
    "X_test, test_id = impute_missing(df_test, test=True)"
   ]
  },
  {
   "cell_type": "code",
   "execution_count": 71,
   "id": "6813faf0-2dca-4ae5-8218-882bc3be05e3",
   "metadata": {
    "tags": []
   },
   "outputs": [],
   "source": [
    "# Identify categorical and numeric columns\n",
    "cat_features = X.select_dtypes(include=['object', 'category']).columns.tolist()\n",
    "num_features = X.select_dtypes(include=['number']).columns.tolist()"
   ]
  },
  {
   "cell_type": "code",
   "execution_count": 91,
   "id": "52bdc433-986c-4f37-b336-b46e1fd17e34",
   "metadata": {
    "tags": []
   },
   "outputs": [],
   "source": [
    "from sklearn.compose import ColumnTransformer\n",
    "from sklearn.pipeline import Pipeline\n",
    "from sklearn.preprocessing import OneHotEncoder, StandardScaler\n",
    "from umap import UMAP\n",
    "from sklearn.model_selection import train_test_split\n",
    "from xgboost import XGBRegressor\n",
    "\n",
    "\n",
    "# construct the pipeline for data transformations\n",
    "preprocessor = ColumnTransformer(\n",
    "    transformers=[\n",
    "        ('cat', OneHotEncoder(handle_unknown='ignore'), cat_features),\n",
    "        ('num', StandardScaler(), num_features)\n",
    "    ])\n",
    "\n",
    "pipeline = Pipeline([\n",
    "    ('preprocessor', preprocessor),\n",
    "    ('umap', UMAP()),\n",
    "    ('regressor', XGBRegressor(objective='reg:squarederror'))\n",
    "])\n"
   ]
  },
  {
   "cell_type": "code",
   "execution_count": 77,
   "id": "37632b34-a274-4c63-9ca7-9afb8137c197",
   "metadata": {
    "tags": []
   },
   "outputs": [],
   "source": [
    "# Helper function\n",
    "def generate_uniform_distribution(min_val, max_val, size=1, seed=19):\n",
    "    # create a uniform distribution object\n",
    "    dist = uniform(loc=min_val, scale=max_val-min_val)\n",
    "    return dist\n"
   ]
  },
  {
   "cell_type": "code",
   "execution_count": 86,
   "id": "84c2b2e8-70f4-4480-b939-bd0d1b8535e0",
   "metadata": {
    "tags": []
   },
   "outputs": [],
   "source": [
    "# split data \n",
    "X_train, X_validation, y_train, y_validation = train_test_split(X, y, test_size=0.25, random_state=42)"
   ]
  },
  {
   "cell_type": "code",
   "execution_count": 92,
   "id": "edc4235c-0f4b-408d-a5df-2602e9af43ea",
   "metadata": {
    "tags": []
   },
   "outputs": [],
   "source": [
    "from scipy.stats import uniform, randint\n",
    "\n",
    "param_grid = {\n",
    "    'umap__n_components': randint(low=5, high=51),  # Search n_components between 5 and 50 with a step of 5\n",
    "    'regressor__reg_lambda': generate_uniform_distribution(min_val=100, max_val=2000),  # Search for different regularization strengths\n",
    "}"
   ]
  },
  {
   "cell_type": "code",
   "execution_count": null,
   "id": "8c618dc9-b77e-444e-9a6c-c0ef36b4757f",
   "metadata": {
    "tags": []
   },
   "outputs": [],
   "source": [
    "from sklearn.model_selection import RandomizedSearchCV\n",
    "model_random_search = RandomizedSearchCV(pipeline, param_grid, cv=5, scoring='neg_root_mean_squared_error')\n",
    "model_random_search.fit(X_train, y_train)"
   ]
  },
  {
   "cell_type": "code",
   "execution_count": 74,
   "id": "8f2bb9ab-61d0-42f1-a521-3e89152d4d54",
   "metadata": {
    "tags": []
   },
   "outputs": [],
   "source": [
    "# run the pipeline\n",
    "\n",
    "# fit pipeline on train\n",
    "model_random_search.fit(X_train, y_train)\n",
    "\n",
    "# # transform on train, test and validation\n",
    "# X_train_trasnformed = pipeline.transform(X_train)\n",
    "# X_validation_trasnformed = pipeline.transform(X_validation)\n",
    "# X_test_trasnformed = pipeline.transform(X_test)"
   ]
  },
  {
   "cell_type": "code",
   "execution_count": 75,
   "id": "aec181ef-3adb-4970-9684-d556cc6a6eb6",
   "metadata": {
    "tags": []
   },
   "outputs": [
    {
     "data": {
      "text/plain": [
       "array([[ 2.1755495,  2.6248782],\n",
       "       [ 2.2010977, -2.0198097],\n",
       "       [ 6.930257 , -2.0688279],\n",
       "       ...,\n",
       "       [ 5.822583 , -3.7346938],\n",
       "       [ 6.842134 , -0.9443781],\n",
       "       [ 2.363676 ,  2.765911 ]], dtype=float32)"
      ]
     },
     "execution_count": 75,
     "metadata": {},
     "output_type": "execute_result"
    }
   ],
   "source": []
  },
  {
   "cell_type": "code",
   "execution_count": 84,
   "id": "9796e31c-c036-41d3-9d4e-6c268438d378",
   "metadata": {
    "tags": []
   },
   "outputs": [
    {
     "data": {
      "text/plain": [
       "count      1460.000000\n",
       "mean     180921.195890\n",
       "std       79442.502883\n",
       "min       34900.000000\n",
       "25%      129975.000000\n",
       "50%      163000.000000\n",
       "75%      214000.000000\n",
       "max      755000.000000\n",
       "Name: SalePrice, dtype: float64"
      ]
     },
     "execution_count": 84,
     "metadata": {},
     "output_type": "execute_result"
    }
   ],
   "source": [
    "y.describe()"
   ]
  },
  {
   "cell_type": "code",
   "execution_count": null,
   "id": "ff8eb546-0a80-4ae1-9c51-f4248d59d1d6",
   "metadata": {},
   "outputs": [],
   "source": []
  }
 ],
 "metadata": {
  "kernelspec": {
   "display_name": "Python 3 (ipykernel)",
   "language": "python",
   "name": "python3"
  },
  "language_info": {
   "codemirror_mode": {
    "name": "ipython",
    "version": 3
   },
   "file_extension": ".py",
   "mimetype": "text/x-python",
   "name": "python",
   "nbconvert_exporter": "python",
   "pygments_lexer": "ipython3",
   "version": "3.10.10"
  }
 },
 "nbformat": 4,
 "nbformat_minor": 5
}

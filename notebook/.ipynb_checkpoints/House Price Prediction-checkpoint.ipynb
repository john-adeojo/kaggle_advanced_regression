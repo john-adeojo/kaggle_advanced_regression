{
 "cells": [
  {
   "cell_type": "markdown",
   "id": "b0a8f978-e9ce-4657-9cf9-d450a370185f",
   "metadata": {
    "tags": []
   },
   "source": [
    "# House Prices - Advanced Regression Techniques\n",
    "\n",
    "* Author: [John Adeojo](https://www.john-adeojo.com/)\n",
    "* Blog: [more projects on my medium blog](https://medium.com/@johnadeojo)\n",
    "* LinkedIn: [Follow me](https://www.linkedin.com/in/john-adeojo/)"
   ]
  },
  {
   "cell_type": "markdown",
   "id": "cde541ce-5553-4d49-8925-e51971c61cca",
   "metadata": {},
   "source": [
    "# Import Data "
   ]
  },
  {
   "cell_type": "code",
   "execution_count": 1,
   "id": "bd637c9a-2ea9-49d8-b46e-22b71b29b2d8",
   "metadata": {
    "tags": []
   },
   "outputs": [],
   "source": [
    "import pandas as pd\n",
    "import numpy as np"
   ]
  },
  {
   "cell_type": "code",
   "execution_count": 2,
   "id": "76fcd949-60c9-4be4-a6d3-38d8a859f38e",
   "metadata": {
    "tags": []
   },
   "outputs": [],
   "source": [
    "df_train = pd.read_csv(r\"https://raw.githubusercontent.com/john-adeojo/kaggle_advanced_regression/main/data/01_raw/train%20(3).csv\")\n",
    "df_test = pd.read_csv(r\"https://raw.githubusercontent.com/john-adeojo/kaggle_advanced_regression/main/data/01_raw/test%20(2).csv\")"
   ]
  },
  {
   "cell_type": "code",
   "execution_count": 3,
   "id": "3666e015-0bff-4593-85b2-2e73acc994b2",
   "metadata": {
    "tags": []
   },
   "outputs": [],
   "source": [
    "# do some quick data profiling with ydata profiling\n",
    "# from ydata_profiling import ProfileReport\n",
    "\n",
    "# profile = ProfileReport(df_train, title=\"Pandas Profiling Report: House Price Data\")\n",
    "# profile.to_file(r\"C:\\Users\\johna\\anaconda3\\envs\\kaggle-env\\kaggle_advanced_regression\\data\\02_reports\\testprofile_report.html\")"
   ]
  },
  {
   "cell_type": "code",
   "execution_count": 4,
   "id": "c2271f5a-38d8-47f8-b438-e9e58848df45",
   "metadata": {
    "tags": []
   },
   "outputs": [],
   "source": [
    "# profile = ProfileReport(df_test, title=\"Pandas Profiling Report: House Price Data (Test)\")\n",
    "# profile.to_file(r\"C:\\Users\\johna\\anaconda3\\envs\\kaggle-env\\kaggle_advanced_regression\\data\\02_reports\\testprofile_report.html\")"
   ]
  },
  {
   "cell_type": "markdown",
   "id": "4d18488c-46ab-4e43-8009-bc5983ca622d",
   "metadata": {},
   "source": [
    "# Data Wrangling & Cleaning"
   ]
  },
  {
   "cell_type": "code",
   "execution_count": 5,
   "id": "9cecb78a-d3fa-4634-9d68-f7afccf8a67c",
   "metadata": {
    "tags": []
   },
   "outputs": [],
   "source": [
    "# define funtion te rplace missing vairbales\n",
    "\n",
    "import pandas as pd\n",
    "\n",
    "def impute_missing(df, test=False):\n",
    "    \n",
    "    if test == False:\n",
    "        id_df = df['Id']\n",
    "        y = df['SalePrice']\n",
    "        df = df.drop(columns=['Id', 'SalePrice'])\n",
    "    else:\n",
    "        id_df = df['Id']\n",
    "        df = df.drop(columns=['Id'])\n",
    "    \n",
    "    \n",
    "    df['LotFrontage'] = df['LotFrontage'].fillna(0)\n",
    "    df['Alley'] = df['Alley'].fillna('No Alley')\n",
    "    df['MasVnrType'] = df['MasVnrType'].fillna('None')\n",
    "    df['MasVnrArea'] = df['MasVnrArea'].fillna(0)\n",
    "    df['BsmtQual'] = df['BsmtQual'].fillna('None')\n",
    "    df['BsmtCond'] = df['BsmtCond'].fillna('None')\n",
    "    df['BsmtExposure'] = df['BsmtExposure'].fillna('None')\n",
    "    df['BsmtFinType1'] = df['BsmtFinType1'].fillna('None')\n",
    "    df['BsmtFinType2'] = df['BsmtFinType2'].fillna('None')\n",
    "    df['Electrical'] = df['Electrical'].fillna('SBrkr')\n",
    "    df['FireplaceQu'] = df['FireplaceQu'].fillna('None')\n",
    "    df['GarageType'] = df['GarageType'].fillna('None')\n",
    "    df['GarageYrBlt'] = df['GarageYrBlt'].fillna(9999)\n",
    "    df['GarageFinish'] = df['GarageFinish'].fillna('None')\n",
    "    df['GarageQual'] = df['GarageQual'].fillna('None')\n",
    "    df['GarageCond'] = df['GarageCond'].fillna('None')\n",
    "    df['PoolQC'] = df['PoolQC'].fillna('None')\n",
    "    df['Fence'] = df['Fence'].fillna('None')\n",
    "    df['MiscFeature'] = df['MiscFeature'].fillna('None')\n",
    "    \n",
    "    df['MSZoning'] = df['MSZoning'].fillna('RL')\n",
    "    df['Utilities'] = df['Utilities'].fillna('AllPub')\n",
    "    df['Exterior1st'] = df['Exterior1st'].fillna('VinylSd') \n",
    "    df['Exterior2nd'] = df['Exterior2nd'].fillna('VinylSd') \n",
    "    df['BsmtFinSF1'] = df['BsmtFinSF1'].fillna(0) \n",
    "    df['BsmtFinSF2'] = df['BsmtFinSF2'].fillna(0)\n",
    "    df['BsmtUnfSF'] = df['BsmtUnfSF'].fillna(0)\n",
    "    df['BsmtUnfSF'] = df['BsmtUnfSF'].fillna(0)\n",
    "    df['TotalBsmtSF'] = df['TotalBsmtSF'].fillna(0)\n",
    "    df['BsmtFullBath'] = df['BsmtFullBath'].fillna(0)\n",
    "    df['BsmtHalfBath'] = df['BsmtHalfBath'].fillna(0)\n",
    "    df['KitchenQual'] = df['KitchenQual'].fillna('TA')\n",
    "    df['Functional'] = df['Functional'].fillna('Typ')\n",
    "    df['Functional'] = df['Functional'].fillna('Typ')\n",
    "    df['GarageCars'] = df['GarageCars'].fillna(0)\n",
    "    df['GarageArea'] = df['GarageArea'].fillna(0) \n",
    "    df['SaleType'] = df['SaleType'].fillna('WD') \n",
    "    \n",
    "    # convert int to object\n",
    "    df['YearBuilt'] = df['YearBuilt'].astype('object')\n",
    "    df['YearRemodAdd'] = df['YearRemodAdd'].astype('object')\n",
    "    df['GarageYrBlt'] = df['GarageYrBlt'].astype('object')\n",
    "    df['YrSold'] = df['YrSold'].astype('object')\n",
    "\n",
    "\n",
    "    \n",
    "    if test == False:\n",
    "        return df, y, id_df\n",
    "    else:\n",
    "        return df, id_df\n",
    "\n"
   ]
  },
  {
   "cell_type": "code",
   "execution_count": 6,
   "id": "6e97e1f5-2077-44e3-947e-c3a7b40529a8",
   "metadata": {
    "tags": []
   },
   "outputs": [],
   "source": [
    "X, y, train_id = impute_missing(df_train, test=False)\n",
    "X_test, test_id = impute_missing(df_test, test=True)"
   ]
  },
  {
   "cell_type": "code",
   "execution_count": 7,
   "id": "6813faf0-2dca-4ae5-8218-882bc3be05e3",
   "metadata": {
    "tags": []
   },
   "outputs": [],
   "source": [
    "# Identify categorical and numeric columns\n",
    "cat_features = X.select_dtypes(include=['object', 'category']).columns.tolist()\n",
    "num_features = X.select_dtypes(include=['number']).columns.tolist()"
   ]
  },
  {
   "cell_type": "code",
   "execution_count": 8,
   "id": "52bdc433-986c-4f37-b336-b46e1fd17e34",
   "metadata": {
    "tags": []
   },
   "outputs": [],
   "source": [
    "from sklearn.compose import ColumnTransformer\n",
    "from sklearn.pipeline import Pipeline\n",
    "from sklearn.ensemble import RandomForestRegressor, StackingRegressor\n",
    "from sklearn.linear_model import Ridge, LinearRegression\n",
    "from sklearn.preprocessing import OneHotEncoder\n",
    "from sklearn.model_selection import train_test_split\n",
    "from xgboost import XGBRegressor\n",
    "\n",
    "\n",
    "\n",
    "preprocessor = ColumnTransformer(\n",
    "    transformers=[\n",
    "        ('cat', OneHotEncoder(handle_unknown='ignore'), cat_features),\n",
    "    ])\n",
    "\n",
    "# Define base models\n",
    "base_models = [\n",
    "    (\"xgb_regressor\", XGBRegressor(tree_method='gpu_hist', objective='reg:squarederror', random_state=42)),\n",
    "    (\"random_forest\", RandomForestRegressor(random_state=42)),\n",
    "    (\"ridge_regressor\", Ridge(random_state=42)),\n",
    "]\n",
    "\n",
    "# Define the meta-model\n",
    "meta_model = LinearRegression()\n",
    "\n",
    "# create stacking regressor\n",
    "stacking_regressor = StackingRegressor(estimators=base_models, final_estimator=meta_model)\n",
    "\n",
    "\n",
    "pipeline = Pipeline([\n",
    "    ('preprocessor', preprocessor),\n",
    "    ('regressor', stacking_regressor)\n",
    "])\n",
    "\n"
   ]
  },
  {
   "cell_type": "code",
   "execution_count": 9,
   "id": "84c2b2e8-70f4-4480-b939-bd0d1b8535e0",
   "metadata": {
    "tags": []
   },
   "outputs": [],
   "source": [
    "# split data \n",
    "X_train, X_validation, y_train, y_validation = train_test_split(X, y, test_size=0.25, random_state=42)\n",
    "\n",
    "y_train = np.log(y_train)\n",
    "y_validation = np.log(y_validation)"
   ]
  },
  {
   "cell_type": "code",
   "execution_count": 10,
   "id": "edc4235c-0f4b-408d-a5df-2602e9af43ea",
   "metadata": {
    "tags": []
   },
   "outputs": [
    {
     "ename": "NameError",
     "evalue": "name 'xgb_param_grid' is not defined",
     "output_type": "error",
     "traceback": [
      "\u001b[1;31m---------------------------------------------------------------------------\u001b[0m",
      "\u001b[1;31mNameError\u001b[0m                                 Traceback (most recent call last)",
      "Cell \u001b[1;32mIn[10], line 32\u001b[0m\n\u001b[0;32m     26\u001b[0m ridge_param_grid \u001b[38;5;241m=\u001b[39m {\n\u001b[0;32m     27\u001b[0m     \u001b[38;5;124m'\u001b[39m\u001b[38;5;124mregressor__ridge_regressor__alpha\u001b[39m\u001b[38;5;124m'\u001b[39m: Real(\u001b[38;5;241m0.1\u001b[39m, \u001b[38;5;241m100\u001b[39m, prior\u001b[38;5;241m=\u001b[39m\u001b[38;5;124m'\u001b[39m\u001b[38;5;124mlog-uniform\u001b[39m\u001b[38;5;124m'\u001b[39m),\n\u001b[0;32m     28\u001b[0m }\n\u001b[0;32m     31\u001b[0m \u001b[38;5;66;03m# Combine all param grids\u001b[39;00m\n\u001b[1;32m---> 32\u001b[0m param_grid \u001b[38;5;241m=\u001b[39m {\u001b[38;5;241m*\u001b[39m\u001b[38;5;241m*\u001b[39m\u001b[43mxgb_param_grid\u001b[49m, \u001b[38;5;241m*\u001b[39m\u001b[38;5;241m*\u001b[39mrf_param_grid, \u001b[38;5;241m*\u001b[39m\u001b[38;5;241m*\u001b[39mridge_param_grid}\n",
      "\u001b[1;31mNameError\u001b[0m: name 'xgb_param_grid' is not defined"
     ]
    }
   ],
   "source": [
    "from skopt.space import Real, Integer, Categorical\n",
    "\n",
    "# Parameter grid for XGBoost\n",
    "xgb_param_grid = {\n",
    "    'regressor__learning_rate': Real(0.01, 0.3, prior='log-uniform'),  # or use lower values like Real(0.001, 0.1, prior='log-uniform') for finer search\n",
    "    'regressor__n_estimators': Integer(50, 2000),  # Number of boosting rounds \n",
    "    'regressor__max_depth': Integer(3, 50),  # Maximum depth of a tree\n",
    "    'regressor__min_child_weight': Integer(1, 20),  # Minimum sum of instance weight needed in a child\n",
    "    'regressor__gamma': Real(0, 5),  # Minimum loss reduction required to make a further partition on a leaf node of the tree\n",
    "    'regressor__subsample': Real(0.5, 1),  # Subsample ratio of the training instances\n",
    "    'regressor__colsample_bytree': Real(0.5, 1),  # Subsample ratio of columns when constructing each tree\n",
    "    'regressor__reg_alpha': Real(1, 1000, prior='log-uniform'),  # L1 regularization term on weights\n",
    "    'regressor__reg_lambda': Real(1, 1000, prior='log-uniform'),  # L2 regularization term on weights\n",
    "}\n",
    "\n",
    "# Parameter grid for RandomForest\n",
    "rf_param_grid = {\n",
    "    'regressor__random_forest__n_estimators': Integer(50, 2000),\n",
    "    'regressor__random_forest__max_depth': Integer(3, 50),\n",
    "    'regressor__random_forest__min_samples_split': Integer(2, 20),\n",
    "    'regressor__random_forest__min_samples_leaf': Integer(1, 20),\n",
    "}\n",
    "\n",
    "\n",
    "# Parameter grid for Ridge\n",
    "ridge_param_grid = {\n",
    "    'regressor__ridge_regressor__alpha': Real(0.1, 100, prior='log-uniform'),\n",
    "}\n",
    "\n",
    "\n",
    "# Combine all param grids\n",
    "param_grid = {**xgb_param_grid, **rf_param_grid, **ridge_param_grid}\n",
    "\n"
   ]
  },
  {
   "cell_type": "code",
   "execution_count": null,
   "id": "8c618dc9-b77e-444e-9a6c-c0ef36b4757f",
   "metadata": {
    "tags": []
   },
   "outputs": [],
   "source": [
    "from sklearn.model_selection import RandomizedSearchCV\n",
    "from skopt import BayesSearchCV\n",
    "\n",
    "model_random_search = BayesSearchCV(pipeline, param_grid, cv=5, scoring='neg_root_mean_squared_error', n_iter=30, n_jobs=1)\n",
    "model_random_search.fit(X_train, y_train)"
   ]
  },
  {
   "cell_type": "code",
   "execution_count": null,
   "id": "8f2bb9ab-61d0-42f1-a521-3e89152d4d54",
   "metadata": {
    "tags": []
   },
   "outputs": [],
   "source": [
    "best_params = model_random_search.best_params_\n",
    "\n",
    "# Print the best parameters\n",
    "print(\"Best parameters found: \", best_params)"
   ]
  },
  {
   "cell_type": "code",
   "execution_count": null,
   "id": "aec181ef-3adb-4970-9684-d556cc6a6eb6",
   "metadata": {
    "tags": []
   },
   "outputs": [],
   "source": [
    "validation_score = model_random_search.score(X_validation, y_validation)\n",
    "\n",
    "# Print the validation score\n",
    "print(\"Validation score: \", validation_score)"
   ]
  },
  {
   "cell_type": "code",
   "execution_count": null,
   "id": "e3af0812-e6dc-480b-8689-150b8328aada",
   "metadata": {},
   "outputs": [],
   "source": []
  }
 ],
 "metadata": {
  "kernelspec": {
   "display_name": "Python 3 (ipykernel)",
   "language": "python",
   "name": "python3"
  },
  "language_info": {
   "codemirror_mode": {
    "name": "ipython",
    "version": 3
   },
   "file_extension": ".py",
   "mimetype": "text/x-python",
   "name": "python",
   "nbconvert_exporter": "python",
   "pygments_lexer": "ipython3",
   "version": "3.10.10"
  }
 },
 "nbformat": 4,
 "nbformat_minor": 5
}
